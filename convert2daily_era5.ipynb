{
 "cells": [
  {
   "cell_type": "markdown",
   "id": "78294baf-b59b-4c25-ae24-f065e3081790",
   "metadata": {},
   "source": [
    "# Convert hourly ERA5 data to daily averages"
   ]
  },
  {
   "cell_type": "markdown",
   "id": "80a7bbb7-0d82-4ff0-a3da-0ec8db3a1b9d",
   "metadata": {},
   "source": [
    "## 1. Load modules"
   ]
  },
  {
   "cell_type": "code",
   "execution_count": 1,
   "id": "18faa8bc-1e05-4963-949e-4ebd60cee159",
   "metadata": {},
   "outputs": [],
   "source": [
    "import xarray as xr\n",
    "import numpy as np"
   ]
  },
  {
   "cell_type": "code",
   "execution_count": 2,
   "id": "d27840d0-b07c-4270-8b8e-a5297ca4be9d",
   "metadata": {},
   "outputs": [],
   "source": [
    "var = 'u' # or v\n",
    "years = np.arange(1980,2015,1) # from 1980 to 2014"
   ]
  },
  {
   "cell_type": "markdown",
   "id": "73327623-56c2-4ee6-b0e7-f0934a632116",
   "metadata": {},
   "source": [
    "## 2. Read the data, calculate daily averages, and save the results"
   ]
  },
  {
   "cell_type": "code",
   "execution_count": 3,
   "id": "18e15d5b-eac0-41bc-a5a6-071af752055a",
   "metadata": {},
   "outputs": [
    {
     "name": "stdout",
     "output_type": "stream",
     "text": [
      "~/_scratch/ERA5/hourly/u200/u200_1980.nc\n",
      "~/_scratch/ERA5/daily/u200/u200_1980.nc\n",
      "~/_scratch/ERA5/hourly/u200/u200_1981.nc\n",
      "~/_scratch/ERA5/daily/u200/u200_1981.nc\n"
     ]
    }
   ],
   "source": [
    "for i in range(len(years)):\n",
    "    year = years[i]\n",
    "    idir = f'~/_scratch/ERA5/hourly/{var}200'\n",
    "    ifname = f'{idir}/{var}200_{year}.nc'\n",
    "    odir = f'~/_scratch/ERA5/daily/{var}200'\n",
    "    ofname = f'{odir}/{var}200_{year}.nc'\n",
    "    print(ifname)\n",
    "    print(ofname)\n",
    "\n",
    "    ds = xr.open_dataset(ifname)\n",
    "    ds = ds.rename({'latitude': 'lat'}) \n",
    "    ds = ds.rename({'longitude': 'lon'}) \n",
    "    data = ds[f'{var}'] # 6hourly\n",
    "    data_daily = data.groupby('valid_time.day').mean() # convert to daily\n",
    "    data_daily.to_netcdf(f'{ofname}')"
   ]
  }
 ],
 "metadata": {
  "kernelspec": {
   "display_name": "climate",
   "language": "python",
   "name": "climate"
  },
  "language_info": {
   "codemirror_mode": {
    "name": "ipython",
    "version": 3
   },
   "file_extension": ".py",
   "mimetype": "text/x-python",
   "name": "python",
   "nbconvert_exporter": "python",
   "pygments_lexer": "ipython3",
   "version": "3.12.6"
  }
 },
 "nbformat": 4,
 "nbformat_minor": 5
}
